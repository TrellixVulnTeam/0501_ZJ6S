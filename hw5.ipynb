{
 "cells": [
  {
   "cell_type": "code",
   "execution_count": 3,
   "metadata": {},
   "outputs": [
    {
     "name": "stdout",
     "output_type": "stream",
     "text": [
      "請輸入 +,-,*,/ 進行運算：+\n",
      "請輸入運算符號前面的數值：15\n",
      "請輸入運算符號後面的數值：51\n",
      "66\n"
     ]
    }
   ],
   "source": [
    "def calculator(func,x,y):\n",
    "    return(func(x,y))\n",
    "\n",
    "def sum_args(x,y):\n",
    "    return x+y\n",
    "\n",
    "def subtraction_args(x,y):\n",
    "    return x-y\n",
    "\n",
    "def multiplication_args(x,y):\n",
    "    return x*y\n",
    "\n",
    "def division_args(x,y):\n",
    "    return x/y\n",
    "\n",
    "def mistake_args(x,y):\n",
    "    return(\"輸入的符號有誤\")\n",
    "\n",
    "fun=\"\"\n",
    "operator=input(\"請輸入 +,-,*,/ 進行運算：\")\n",
    "if operator==\"+\":\n",
    "    fun=sum_args\n",
    "elif operator==\"-\":\n",
    "    fun=subtraction_args\n",
    "elif operator==\"*\":\n",
    "    fun=multiplication_args\n",
    "elif operator==\"/\":\n",
    "    fun=division_args\n",
    "else:\n",
    "    fun=mistake_args\n",
    "\n",
    "x=input(\"請輸入運算符號前面的數值：\")\n",
    "y=input(\"請輸入運算符號後面的數值：\")\n",
    "if x.isdigit() and y.isdigit():\n",
    "    x=int(x)\n",
    "    y=int(y)\n",
    "    print(calculator(fun,x,y))\n",
    "else:\n",
    "    print(\"輸入的數值錯誤\")"
   ]
  },
  {
   "cell_type": "code",
   "execution_count": null,
   "metadata": {},
   "outputs": [],
   "source": []
  }
 ],
 "metadata": {
  "kernelspec": {
   "display_name": "Python 3",
   "language": "python",
   "name": "python3"
  },
  "language_info": {
   "codemirror_mode": {
    "name": "ipython",
    "version": 3
   },
   "file_extension": ".py",
   "mimetype": "text/x-python",
   "name": "python",
   "nbconvert_exporter": "python",
   "pygments_lexer": "ipython3",
   "version": "3.7.3"
  }
 },
 "nbformat": 4,
 "nbformat_minor": 2
}
